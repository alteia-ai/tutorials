{
 "cells": [
  {
   "cell_type": "markdown",
   "metadata": {},
   "source": [
    "# Share map tiles with several datasets\n",
    "\n",
    "In this notebook, you will be guided to :\n",
    "- Create a **project** and upload an orthomosaic **composed of 2 rasters**\n",
    "- Generate a URL template to download tiles displaying both rasters\n",
    "- Visualize the tiles in the notebook\n",
    "- Manage **share tokens** giving access to the raster"
   ]
  },
  {
   "cell_type": "markdown",
   "metadata": {},
   "source": [
    "### You may execute this notebook one cell after the other with `Shift + Enter`"
   ]
  },
  {
   "cell_type": "markdown",
   "metadata": {},
   "source": [
    "For more options, explore `Cell` in the top menu bar, or read a [tutorial](https://www.dataquest.io/blog/jupyter-notebook-tutorial/)"
   ]
  },
  {
   "cell_type": "markdown",
   "metadata": {},
   "source": [
    "## Requirements"
   ]
  },
  {
   "cell_type": "markdown",
   "metadata": {},
   "source": [
    "- Alteia Python SDK\n",
    "- folium\n",
    "- shapely\n",
    "- pyproj\n",
    "- tabulate\n",
    "\n",
    "⚠️ **Restart the Jupyter kernel after first install**"
   ]
  },
  {
   "cell_type": "code",
   "execution_count": null,
   "metadata": {},
   "outputs": [],
   "source": [
    "!pip install alteia folium shapely pyproj tabulate"
   ]
  },
  {
   "cell_type": "code",
   "execution_count": null,
   "metadata": {},
   "outputs": [],
   "source": [
    "import os\n",
    "import alteia"
   ]
  },
  {
   "cell_type": "code",
   "execution_count": null,
   "metadata": {},
   "outputs": [],
   "source": [
    "import getpass\n",
    "platform_url = 'https://app.alteia.com'\n",
    "login = input('Enter your email ')\n",
    "password = getpass.getpass('Enter your password ')"
   ]
  },
  {
   "cell_type": "code",
   "execution_count": null,
   "metadata": {},
   "outputs": [],
   "source": [
    "sdk = alteia.SDK(url=platform_url, user=login, password=password)"
   ]
  },
  {
   "cell_type": "markdown",
   "metadata": {},
   "source": [
    "### Download sample files (images, mesh, raster...)"
   ]
  },
  {
   "cell_type": "markdown",
   "metadata": {},
   "source": [
    "An archive `Split-orthomosaic.zip` containing sample files will be downloaded (if not found in the current directory)."
   ]
  },
  {
   "cell_type": "code",
   "execution_count": null,
   "metadata": {},
   "outputs": [],
   "source": [
    "import urllib.request\n",
    "import zipfile\n",
    "\n",
    "try: working_dir\n",
    "except NameError: working_dir = os.getcwd()\n",
    "%cd {working_dir}\n",
    "\n",
    "name = 'Split-orthomosaic'\n",
    "filename = f'{name}.zip'\n",
    "\n",
    "if not os.path.exists(name):\n",
    "    print(f'\"{name}\" folder not found')\n",
    "    if not os.path.exists(filename):\n",
    "        print(f'{filename} not found')\n",
    "        print('Downloading it...', end=' ')\n",
    "        url = f'https://delair-transfer.s3-eu-west-1.amazonaws.com/sdks/sample-data/{filename}'\n",
    "        filepath, _ = urllib.request.urlretrieve(url, filename)\n",
    "        print('OK')\n",
    "\n",
    "    print(f'Extracting \"{filename}\"...', end=' ')\n",
    "    with zipfile.ZipFile(filepath, 'r') as zip_ref:\n",
    "        zip_ref.extractall('.')\n",
    "    print('OK')\n",
    "else:\n",
    "    print(f'\"{name}\" folder found. No need to download it again.')"
   ]
  },
  {
   "cell_type": "code",
   "execution_count": null,
   "metadata": {},
   "outputs": [],
   "source": [
    "sample_path = f'./{name}'"
   ]
  },
  {
   "cell_type": "code",
   "execution_count": null,
   "metadata": {},
   "outputs": [],
   "source": [
    "%cd {sample_path}\n",
    "!ls ."
   ]
  },
  {
   "cell_type": "markdown",
   "metadata": {},
   "source": [
    "# Create the project"
   ]
  },
  {
   "cell_type": "code",
   "execution_count": null,
   "metadata": {},
   "outputs": [],
   "source": [
    "import ipywidgets as widgets\n",
    "my_companies = list(sdk.companies.search_generator())\n",
    "print('Select the company to create your project :')\n",
    "radio_buttons = widgets.RadioButtons(\n",
    "    options=[c.name for c in my_companies],\n",
    ")\n",
    "radio_buttons"
   ]
  },
  {
   "cell_type": "code",
   "execution_count": null,
   "metadata": {},
   "outputs": [],
   "source": [
    "company = my_companies[radio_buttons.index]"
   ]
  },
  {
   "cell_type": "code",
   "execution_count": null,
   "metadata": {},
   "outputs": [],
   "source": [
    "my_project = sdk.projects.create(\n",
    "    name='Share Map with several datasets',\n",
    "    company=company.id,\n",
    "    geometry={\"coordinates\": [[\n",
    "                [2.0362935018049213, 43.33793077500704],\n",
    "                [2.052168442639523, 43.33793077500704],\n",
    "                [2.052168442639523, 43.34757088135606],\n",
    "                [2.0362935018049213, 43.34757088135606],\n",
    "                [2.0362935018049213, 43.33793077500704]]],\n",
    "              \"type\": \"Polygon\"})"
   ]
  },
  {
   "cell_type": "code",
   "execution_count": null,
   "metadata": {},
   "outputs": [],
   "source": [
    "print('We just created the project {!r} with id {!r}'.format(\n",
    "    my_project.name, my_project.id))"
   ]
  },
  {
   "cell_type": "markdown",
   "metadata": {},
   "source": [
    "## Create and upload the 2 rasters"
   ]
  },
  {
   "cell_type": "code",
   "execution_count": null,
   "metadata": {},
   "outputs": [],
   "source": [
    "left_dataset = sdk.datasets.create_raster_dataset(\n",
    "  name='Left',\n",
    "  project=my_project.id,\n",
    "  dataset_format='geotiff',\n",
    "  categories=['orthomosaic'])\n",
    "\n",
    "sdk.datasets.upload_file(\n",
    "  dataset=left_dataset.id,\n",
    "  component='raster',\n",
    "  file_path='Left.tif')\n",
    "\n",
    "print('\"Left\" raster uploaded')\n",
    "\n",
    "right_dataset = sdk.datasets.create_raster_dataset(\n",
    "  name='Right',\n",
    "  project=my_project.id,\n",
    "  dataset_format='geotiff',\n",
    "  categories=['orthomosaic'])\n",
    "\n",
    "sdk.datasets.upload_file(\n",
    "  dataset=right_dataset.id,\n",
    "  component='raster',\n",
    "  file_path='Right.tif')\n",
    "\n",
    "print('\"Right\" raster uploaded')"
   ]
  },
  {
   "cell_type": "markdown",
   "metadata": {},
   "source": [
    "#### After the raster uploads, they need to be ingested. It can take up to 5 minutes."
   ]
  },
  {
   "cell_type": "code",
   "execution_count": null,
   "metadata": {},
   "outputs": [],
   "source": [
    "from time import sleep\n",
    "print('Please wait till the rasters are ingested (it can takes up to 5 minutes)...')\n",
    "while True:\n",
    "    ds_list = sdk.datasets.describe([left_dataset.id, right_dataset.id])\n",
    "    ingestion_statuses = [ds.ingestion.get('status') for ds in ds_list]\n",
    "    if ingestion_statuses == ['completed', 'completed']:\n",
    "        break\n",
    "    else:\n",
    "        sleep(10)\n",
    "\n",
    "print('OK 👍')\n",
    "print('The 2 rasters have been ingested properly')"
   ]
  },
  {
   "cell_type": "markdown",
   "metadata": {},
   "source": [
    "# Tile layer URLs Generation"
   ]
  },
  {
   "cell_type": "markdown",
   "metadata": {},
   "source": [
    "**Alteia** provides a tiling service for visualization of raster datasets.\n",
    "\n",
    "It follows the TMS standard (for example: https://app.alteia.com/tileserver/tiles/DATASET_ID/{z}/{x}/{y}.png).\n",
    "\n",
    "The access to this service resources is protected using a token.\n",
    "\n",
    "The Python SDK provides the `sdk.datasets.share_tiles` function:\n",
    "- to generate a token giving access to some datasets\n",
    "- and build a URL template to download tiles displaying those datasets."
   ]
  },
  {
   "cell_type": "code",
   "execution_count": null,
   "metadata": {},
   "outputs": [],
   "source": [
    "map_tile_url = sdk.datasets.share_tiles(dataset=[left_dataset.id, right_dataset.id])\n",
    "map_tile_url"
   ]
  },
  {
   "cell_type": "markdown",
   "metadata": {},
   "source": [
    "# Visualization with Folium"
   ]
  },
  {
   "cell_type": "markdown",
   "metadata": {},
   "source": [
    "[Folium](http://python-visualization.github.io/folium/) is a Python integration of an interactive map and provides easy visualization of geolocalized data.\n",
    "\n",
    "To set the default location of the map, one must first determine the center of the data to visualize."
   ]
  },
  {
   "cell_type": "markdown",
   "metadata": {},
   "source": [
    "### Determine the center of the raster and its bounding box"
   ]
  },
  {
   "cell_type": "code",
   "execution_count": null,
   "metadata": {},
   "outputs": [],
   "source": [
    "# Request the updated dataset properties (such as its geometry)\n",
    "datasets = sdk.datasets.describe([left_dataset.id, right_dataset.id])"
   ]
  },
  {
   "cell_type": "code",
   "execution_count": null,
   "metadata": {},
   "outputs": [],
   "source": [
    "from shapely.geometry import shape\n",
    "from shapely.ops import cascaded_union\n",
    "\n",
    "def merge_geometries(geometries):\n",
    "    if not isinstance(geometries, list):\n",
    "        geometries = [geometries]\n",
    "    shapely_union_geometry = cascaded_union(geometries)\n",
    "    return shapely_union_geometry\n",
    "\n",
    "merged_geometry = merge_geometries([shape(ds.geometry) for ds in datasets])"
   ]
  },
  {
   "cell_type": "code",
   "execution_count": null,
   "metadata": {},
   "outputs": [],
   "source": [
    "def get_center_coords(geometry):\n",
    "    return list(geometry.centroid.coords)[0]\n",
    "\n",
    "center_longitude, center_latitude = get_center_coords(merged_geometry)\n",
    "map_center = (center_latitude, center_longitude)\n",
    "print('Coordinates of the center: lat={:.4f}, long={:.4f}'.format(center_latitude, center_longitude))"
   ]
  },
  {
   "cell_type": "code",
   "execution_count": null,
   "metadata": {},
   "outputs": [],
   "source": [
    "def get_bbox(geometry):\n",
    "    return geometry.bounds  # (minx, miny, maxx, maxy)\n",
    "\n",
    "bbox = get_bbox(merged_geometry)\n",
    "print('Bounding box: {}'.format(bbox))"
   ]
  },
  {
   "cell_type": "markdown",
   "metadata": {},
   "source": [
    "## Orthomosaic"
   ]
  },
  {
   "cell_type": "code",
   "execution_count": null,
   "metadata": {},
   "outputs": [],
   "source": [
    "import folium\n",
    "\n",
    "m = folium.Map(location=map_center, zoom_start=18)\n",
    "\n",
    "folium.raster_layers.TileLayer(\n",
    "    tiles=map_tile_url,\n",
    "    attr='Alteia',\n",
    "    max_zoom=20,\n",
    "    overlay=False,\n",
    "    control=True,\n",
    "    bounds=[[bbox[1], bbox[0]], [bbox[3], bbox[2]]]\n",
    ").add_to(m)\n",
    "m"
   ]
  },
  {
   "cell_type": "markdown",
   "metadata": {},
   "source": [
    "# Manage share tokens\n",
    "\n",
    "When sharing map tiles with the functions above, a unique token is generated and included in the URL.\n",
    "It is called a **share token**.\n",
    "These tokens give access to specific datasets to the people or application you shared it with, without having to login on Alteia.\n",
    "\n",
    "In order to control the share tokens that have been created, and to revoke some if necessary, please follow the following parts."
   ]
  },
  {
   "cell_type": "markdown",
   "metadata": {},
   "source": [
    "### List share tokens"
   ]
  },
  {
   "cell_type": "code",
   "execution_count": null,
   "metadata": {},
   "outputs": [],
   "source": [
    "from datetime import datetime\n",
    "from IPython.display import HTML, display\n",
    "from tabulate import tabulate\n",
    "\n",
    "headers = ['Index', 'Shared datasets', 'Company', 'Token creation', 'Token expiration', 'Token value']\n",
    "table = []\n",
    "for index, share_token in enumerate(sdk.share_tokens.search_generator()):\n",
    "    shared_datasets = share_token.scope[\"datasets\"].keys()\n",
    "    table.append([\n",
    "        index+1,\n",
    "        '\\n'.join(shared_datasets),\n",
    "        share_token.company,\n",
    "        share_token.creation_date,\n",
    "        getattr(share_token, 'expiration_date', 'None'),\n",
    "        share_token.token\n",
    "    ])\n",
    "\n",
    "display(HTML(tabulate(table, headers, tablefmt='html', colalign='left')))"
   ]
  },
  {
   "cell_type": "markdown",
   "metadata": {},
   "source": [
    "### Revoke a share token"
   ]
  },
  {
   "cell_type": "code",
   "execution_count": null,
   "metadata": {},
   "outputs": [],
   "source": [
    "import ipywidgets as widgets\n",
    "\n",
    "share_tokens = list(sdk.share_tokens.search_generator())\n",
    "print('Select an access token to revoke :')\n",
    "radio_buttons = widgets.RadioButtons(\n",
    "    options=[f'{index+1}) {token.token[:30]}...' for index, token in enumerate(share_tokens)],\n",
    ")\n",
    "radio_buttons"
   ]
  },
  {
   "cell_type": "code",
   "execution_count": null,
   "metadata": {},
   "outputs": [],
   "source": [
    "token_to_revoke = share_tokens[radio_buttons.index]"
   ]
  },
  {
   "cell_type": "code",
   "execution_count": null,
   "metadata": {},
   "outputs": [],
   "source": [
    "print(f'Revoking token {token_to_revoke.token}...')\n",
    "sdk.share_tokens.revoke(token_to_revoke.token)\n",
    "print()\n",
    "print('OK 👍')"
   ]
  }
 ],
 "metadata": {
  "kernelspec": {
   "display_name": "Python 3",
   "language": "python",
   "name": "python3"
  },
  "language_info": {
   "codemirror_mode": {
    "name": "ipython",
    "version": 3
   },
   "file_extension": ".py",
   "mimetype": "text/x-python",
   "name": "python",
   "nbconvert_exporter": "python",
   "pygments_lexer": "ipython3",
   "version": "3.8.10"
  }
 },
 "nbformat": 4,
 "nbformat_minor": 2
}
